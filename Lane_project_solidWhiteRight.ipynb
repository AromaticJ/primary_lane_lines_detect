{
 "cells": [
  {
   "cell_type": "markdown",
   "metadata": {},
   "source": [
    "# Self-Driving Car Engineer Nanodegree"
   ]
  },
  {
   "cell_type": "markdown",
   "metadata": {},
   "source": [
    "## Project: Finding Lane Lines on the Road"
   ]
  },
  {
   "cell_type": "markdown",
   "metadata": {},
   "source": [
    "### Import Packages"
   ]
  },
  {
   "cell_type": "code",
   "execution_count": 1,
   "metadata": {
    "collapsed": true
   },
   "outputs": [],
   "source": [
    "import numpy as np\n",
    "import cv2\n",
    "from collections import deque"
   ]
  },
  {
   "cell_type": "markdown",
   "metadata": {},
   "source": [
    "### Function Define"
   ]
  },
  {
   "cell_type": "code",
   "execution_count": 2,
   "metadata": {
    "collapsed": true
   },
   "outputs": [],
   "source": [
    "def nothing(x):\n",
    "    pass\n",
    "#This function is used for the fifth parameter of function cv2.createTrackbar()"
   ]
  },
  {
   "cell_type": "markdown",
   "metadata": {},
   "source": [
    "### Read in an video and set parameters for video reading and writing"
   ]
  },
  {
   "cell_type": "code",
   "execution_count": 3,
   "metadata": {
    "collapsed": true
   },
   "outputs": [],
   "source": [
    "cap = cv2.VideoCapture(\"solidWhiteRight.mp4\")\n",
    "fps = cap.get(5)\n",
    "size = (int(cap.get(3)), int(cap.get(4)))\n",
    "fourcc = cv2.VideoWriter_fourcc(*'DIVX')\n",
    "out_comb = cv2.VideoWriter(\"output_solidWhiteRight.avi\", fourcc, fps, size, isColor=True)"
   ]
  },
  {
   "cell_type": "markdown",
   "metadata": {},
   "source": [
    "### Initial setting of parameters"
   ]
  },
  {
   "cell_type": "code",
   "execution_count": 4,
   "metadata": {
    "collapsed": true
   },
   "outputs": [],
   "source": [
    "cv2.namedWindow('parameters')\n",
    "cv2.createTrackbar('kernel_size', 'parameters', 1, 50, nothing)\n",
    "cv2.createTrackbar('low_threshold', 'parameters', 50, 255, nothing)\n",
    "cv2.createTrackbar('high_threshold', 'parameters', 150, 255, nothing)\n",
    "cv2.createTrackbar('rho', 'parameters', 2, 50, nothing)\n",
    "cv2.createTrackbar('theta', 'parameters', 1, 180, nothing)\n",
    "cv2.createTrackbar('point_threshold', 'parameters', 10, 500, nothing)\n",
    "cv2.createTrackbar('min_line_length', 'parameters', 30, 500, nothing)\n",
    "cv2.createTrackbar('max_line_gap', 'parameters', 20, 500, nothing)\n",
    "cv2.createTrackbar('left_limit', 'parameters', 480, 480, nothing)\n",
    "cv2.createTrackbar('right_limit', 'parameters', 480, 959, nothing)\n",
    "cv2.createTrackbar('high_limit', 'parameters', 320, 539, nothing)\n",
    "cv2.createTrackbar('bottom_limit', 'parameters', 500, 539, nothing)\n",
    "cv2.createTrackbar('left_bottom', 'parameters', 100, 480, nothing)\n",
    "cv2.createTrackbar('right_bottom', 'parameters', 859, 959, nothing)\n",
    "cv2.createTrackbar('w_H_L', 'parameters', 0, 179, nothing)\n",
    "cv2.createTrackbar('w_S_L', 'parameters', 0, 255, nothing)\n",
    "cv2.createTrackbar('w_V_L', 'parameters', 200, 255, nothing)\n",
    "cv2.createTrackbar('w_H_H', 'parameters', 100, 179, nothing)\n",
    "cv2.createTrackbar('w_S_H', 'parameters', 30, 255, nothing)\n",
    "cv2.createTrackbar('w_V_H', 'parameters', 255, 255, nothing)\n",
    "cv2.createTrackbar('Y_H_L', 'parameters', 20, 179, nothing)\n",
    "cv2.createTrackbar('Y_S_L', 'parameters', 150, 255, nothing)\n",
    "cv2.createTrackbar('Y_V_L', 'parameters', 100, 255, nothing)\n",
    "cv2.createTrackbar('Y_H_H', 'parameters', 30, 179, nothing)\n",
    "cv2.createTrackbar('Y_S_H', 'parameters', 255, 255, nothing)\n",
    "cv2.createTrackbar('Y_V_H', 'parameters', 255, 255, nothing)\n",
    "#For the purpose of adjusting parameters in real-time, I create trackbars for most of the parameters.\n",
    "#The initial values of each parameters are the best values as I know according to many tries.\n",
    "\n",
    "fps_continue = 5\n",
    "slope_list_left = deque([], maxlen=fps_continue)\n",
    "slope_list_right = deque([], maxlen=fps_continue)\n",
    "x_list_left = deque([], maxlen=fps_continue)\n",
    "y_list_left = deque([], maxlen=fps_continue)\n",
    "x_list_right = deque([], maxlen=fps_continue)\n",
    "y_list_right = deque([], maxlen=fps_continue)\n",
    "#For purpose to restrain shaking of annotated lan lines, I used queues of slopes and middle points of continuous 5 fps\n",
    "#and so that the slopes and middle points for current fps is acurally the mean value of 5 fps."
   ]
  },
  {
   "cell_type": "markdown",
   "metadata": {},
   "source": [
    "### The main while process "
   ]
  },
  {
   "cell_type": "code",
   "execution_count": 5,
   "metadata": {
    "collapsed": true
   },
   "outputs": [],
   "source": [
    "while(cap.isOpened()):\n",
    "    ret, image = cap.read()\n",
    "    if ret:\n",
    "        kernel_size = 3 + 2 * cv2.getTrackbarPos('kernel_size', 'parameters')\n",
    "        low_threshold = cv2.getTrackbarPos('low_threshold', 'parameters')\n",
    "        high_threshold = cv2.getTrackbarPos('high_threshold', 'parameters')\n",
    "        rho = cv2.getTrackbarPos('rho', 'parameters')\n",
    "        theta = cv2.getTrackbarPos('theta', 'parameters') * np.pi / 180\n",
    "        threshold = cv2.getTrackbarPos('threshold', 'parameters')\n",
    "        min_line_length = cv2.getTrackbarPos('min_line_length', 'parameters')\n",
    "        max_line_gap = cv2.getTrackbarPos('max_line_gap', 'parameters')\n",
    "        left_limit = cv2.getTrackbarPos('left_limit', 'parameters')\n",
    "        right_limit = cv2.getTrackbarPos('right_limit', 'parameters')\n",
    "        high_limit = cv2.getTrackbarPos('high_limit', 'parameters')\n",
    "        bottom_limit = cv2.getTrackbarPos('bottom_limit', 'parameters')\n",
    "        left_bottom = cv2.getTrackbarPos('left_bottom', 'parameters')\n",
    "        right_bottom = cv2.getTrackbarPos('right_bottom', 'parameters')\n",
    "        Y_H_L = cv2.getTrackbarPos('Y_H_L', 'parameters')\n",
    "        Y_S_L = cv2.getTrackbarPos('Y_S_L', 'parameters')\n",
    "        Y_V_L = cv2.getTrackbarPos('Y_V_L', 'parameters')\n",
    "        Y_H_H = cv2.getTrackbarPos('Y_H_H', 'parameters')\n",
    "        Y_S_H = cv2.getTrackbarPos('Y_S_H', 'parameters')\n",
    "        Y_V_H = cv2.getTrackbarPos('Y_V_H', 'parameters')\n",
    "        W_H_L = cv2.getTrackbarPos('w_H_L', 'parameters')\n",
    "        W_S_L = cv2.getTrackbarPos('w_S_L', 'parameters')\n",
    "        W_V_L = cv2.getTrackbarPos('w_V_L', 'parameters')\n",
    "        W_H_H = cv2.getTrackbarPos('w_H_H', 'parameters')\n",
    "        W_S_H = cv2.getTrackbarPos('w_S_H', 'parameters')\n",
    "        W_V_H = cv2.getTrackbarPos('w_V_H', 'parameters')\n",
    "#Firstly, read in the values from track bars for each parameters.\n",
    "\n",
    "        hsv = cv2.cvtColor(image, cv2.COLOR_BGR2HSV)\n",
    "        gray = cv2.cvtColor(image, cv2.COLOR_BGR2GRAY)\n",
    "        lower_yellow = np.array([Y_H_L, Y_S_L, Y_V_L])\n",
    "        upper_yellow = np.array([Y_H_H, Y_S_H, Y_V_H])\n",
    "        mask_yellow = cv2.inRange(hsv, lower_yellow, upper_yellow)\n",
    "        \"\"\"\n",
    "        lower_white = np.array([W_H_L, W_S_L, W_V_L])\n",
    "        upper_white = np.array([W_H_H, W_S_H, W_V_H])\n",
    "        mask_white = cv2.inRange(hsv, lower_white, upper_white)\n",
    "        \"\"\"\n",
    "        ret2, mask_white2 = cv2.threshold(gray, 200, 0, cv2.THRESH_TOZERO)\n",
    "        mask_color = cv2.bitwise_or(mask_white2, mask_yellow)\n",
    "        color_select = cv2.bitwise_and(image, image, mask=mask_color)\n",
    "        cv2.imshow('image1_color_select', color_select)\n",
    "#The first process I choosed is the color selection. I made a yellow mask and a white mask respectively, and then\n",
    "#combine them by a bitwise_or operation.\n",
    "#For the white mask, two way can achieve it. One is the way same with yellow mask, by using the HSV color space. \n",
    "#The other is by the THRESH_TOZERO threshold operation. In my opinion, especially for the colors black and white, \n",
    "#threshold operation usually easy to be used and have a better effection.\n",
    "\n",
    "        gray = cv2.cvtColor(color_select, cv2.COLOR_BGR2GRAY)\n",
    "        blur_gray = cv2.GaussianBlur(gray, (kernel_size, kernel_size), 0)\n",
    "        edges = cv2.Canny(blur_gray, low_threshold, high_threshold)\n",
    "        cv2.imshow('image2_edges_detect', edges)\n",
    "        mask_region = np.zeros_like(edges)\n",
    "        ignore_mask_color = 255\n",
    "        imshape = image.shape\n",
    "        vertices = np.array([[(left_bottom, bottom_limit), (left_limit, high_limit), (right_limit, high_limit), (right_bottom, bottom_limit)]], dtype=np.int32)\n",
    "        cv2.fillPoly(mask_region, vertices, ignore_mask_color)\n",
    "        masked_edges = cv2.bitwise_and(edges, mask_region)\n",
    "        cv2.imshow('image3_masked_edges', masked_edges)\n",
    "#The second process is the canny edges detection and region selection based on the image processed by color selection.\n",
    "#Owning to the color selection, canny edges detection output an result without many noise. And by the region selection,\n",
    "#almost all of the remaining noise can be removed.\n",
    "\n",
    "        slope_left = 0#The mean value of all left line slopes in one fps \n",
    "        slope_right = 0#The mean value of al right line slopes in one fps\n",
    "        n_left = 0#In one fps, how many left lines have been detected\n",
    "        n_right = 0#In one fps, how many right lines have been detected\n",
    "        x_left = 0#The middle point of all left lines in one fps\n",
    "        y_left = 0#The middle point of all left lines in one fps\n",
    "        x_right = 0#The middle point of all right lines in one fps\n",
    "        y_right = 0#The middle point of all right lines in one fps\n",
    "        line_image = np.copy(image) * 0\n",
    "        lines = cv2.HoughLinesP(masked_edges, rho, theta, threshold, np.array([]), min_line_length, max_line_gap)\n",
    "        for line in lines:\n",
    "            for x1, y1, x2, y2 in line:\n",
    "                if (x1 == x2) | (abs(y1 - y2) < 10):#To prevent 0 divide and get rid of horizontal lines\n",
    "                    continue\n",
    "                slope = (y2 - y1) / (x2 - x1)\n",
    "                if slope > 0:\n",
    "                    n_left += 1\n",
    "                    if len(slope_list_left):\n",
    "                        if abs(slope - sum(slope_list_left) / len(slope_list_left)) > 1:\n",
    "                            slope = sum(slope_list_left) / len(slope_list_left)\n",
    "                    slope_left += slope\n",
    "                    x_left += (x1 + x2) / 2\n",
    "                    y_left += (y1 + y2) / 2\n",
    "                else:\n",
    "                    n_right += 1\n",
    "                    if len(slope_list_right):\n",
    "                        if abs(slope - sum(slope_list_right) / len(slope_list_right)) > 1:\n",
    "                            slope = sum(slope_list_right) / len(slope_list_right)\n",
    "                    slope_right += slope\n",
    "                    x_right += (x1 + x2) / 2\n",
    "                    y_right += (y1 + y2) / 2\n",
    "\n",
    "        if n_left & n_right:#To prevent 0 divide\n",
    "            slope_left /= n_left\n",
    "            x_left /= n_left\n",
    "            y_left /= n_left\n",
    "            slope_right /= n_right\n",
    "            x_right /= n_right\n",
    "            y_right /= n_right\n",
    "            #Calculate the mean values in one fps \n",
    "            slope_list_left.append(slope_left)\n",
    "            x_list_left.append(x_left)\n",
    "            y_list_left.append(y_left)\n",
    "            slope_list_right.append(slope_right)\n",
    "            x_list_right.append(x_right)\n",
    "            y_list_right.append(y_right)\n",
    "            #Operating and maintaining queues\n",
    "        if (len(slope_list_right) > 0) & (len(slope_list_left) > 0):#To prevent 0 divide\n",
    "            slope_left = sum(slope_list_left) / len(slope_list_left)\n",
    "            slope_right = sum(slope_list_right) / len(slope_list_right)\n",
    "            x_left = sum(x_list_left) / len(x_list_left)\n",
    "            y_left = sum(y_list_left) / len(y_list_left)\n",
    "            x_right = sum(x_list_right) / len(x_list_right)\n",
    "            y_right = sum(y_list_right) / len(y_list_right)\n",
    "            #Calculate the mean values of continues 5 fps\n",
    "            b_left = y_left - slope_left * x_left\n",
    "            b_right = y_right - slope_right * x_right\n",
    "            x_cross = int((b_right - b_left) / (slope_left - slope_right))\n",
    "            y_cross = int(slope_left * x_cross + b_left)\n",
    "            #Calculate the cross point of left and right lan lines\n",
    "            delt_x = 30 * np.cos(np.arctan(slope_right))\n",
    "            delt_y = 30 * np.sin(np.arctan(slope_right))\n",
    "            x1 = int(x_cross - delt_x)\n",
    "            x2 = int(x_cross - 13 * delt_x)\n",
    "            y1 = int(y_cross - delt_y)\n",
    "            y2 = int(y_cross - 13 * delt_y)\n",
    "            cv2.line(line_image, (x1, y1), (x2, y2), (0, 0, 255), 10)\n",
    "            #Draw left lan line based on cross point\n",
    "            delt_x = 30 * np.cos(np.arctan(slope_left))\n",
    "            delt_y = 30 * np.sin(np.arctan(slope_left))\n",
    "            x1 = int(x_cross + delt_x)\n",
    "            x2 = int(x_cross + 13 * delt_x)\n",
    "            y1 = int(y_cross + delt_y)\n",
    "            y2 = int(y_cross + 13 * delt_y)\n",
    "            cv2.line(line_image, (x1, y1), (x2, y2), (0, 0, 255), 10)\n",
    "            #Draw right lan lines based on cross point\n",
    "\n",
    "        comb = cv2.addWeighted(image, 0.8, line_image, 1, 0)\n",
    "        cv2.imshow('image4', comb)\n",
    "        out_comb.write(comb)\n",
    "#Finally, the Houghlines process is able to output lane lines only. And I combine it into the initial images for an \n",
    "#final output.\n",
    "\n",
    "        k = cv2.waitKey(1) & 0xFF\n",
    "        if k == 27:\n",
    "            break\n",
    "    else:\n",
    "        break"
   ]
  },
  {
   "cell_type": "markdown",
   "metadata": {},
   "source": [
    "### Release source used before"
   ]
  },
  {
   "cell_type": "code",
   "execution_count": 6,
   "metadata": {
    "collapsed": true
   },
   "outputs": [],
   "source": [
    "cap.release()\n",
    "out_comb.release()\n",
    "cv2.destroyAllWindows()"
   ]
  }
 ],
 "metadata": {
  "kernelspec": {
   "display_name": "Python 3",
   "language": "python",
   "name": "python3"
  },
  "language_info": {
   "codemirror_mode": {
    "name": "ipython",
    "version": 3
   },
   "file_extension": ".py",
   "mimetype": "text/x-python",
   "name": "python",
   "nbconvert_exporter": "python",
   "pygments_lexer": "ipython3",
   "version": "3.6.2"
  }
 },
 "nbformat": 4,
 "nbformat_minor": 2
}
